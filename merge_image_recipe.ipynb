{
 "cells": [
  {
   "cell_type": "code",
   "execution_count": 1,
   "metadata": {},
   "outputs": [
    {
     "name": "stdout",
     "output_type": "stream",
     "text": [
      "Merged data has been saved to merged_recipes_with_images.csv\n"
     ]
    }
   ],
   "source": [
    "import os\n",
    "import csv\n",
    "\n",
    "# Directories for recipes and images\n",
    "recipes_dir = 'nepalese_recipe'\n",
    "images_dir = 'images'\n",
    "\n",
    "# Function to read recipe content from a text file\n",
    "def read_recipe_file(file_path):\n",
    "    try:\n",
    "        with open(file_path, 'r', encoding='utf-8') as f:\n",
    "            content = f.read()\n",
    "        return content\n",
    "    except FileNotFoundError:\n",
    "        return \"Recipe not found\"\n",
    "\n",
    "# Function to get all image file paths for a given dish\n",
    "def get_image_paths(dish_name):\n",
    "    dish_folder = os.path.join(images_dir, dish_name)\n",
    "    if not os.path.isdir(dish_folder):\n",
    "        return []\n",
    "\n",
    "    # List all JPEG files in the dish folder\n",
    "    image_files = [os.path.join(dish_folder, img) for img in os.listdir(dish_folder) if img.lower().endswith('.jpeg')]\n",
    "    return image_files\n",
    "\n",
    "# Merge the data\n",
    "merged_data = []\n",
    "\n",
    "# Iterate over each recipe text file\n",
    "for recipe_file in os.listdir(recipes_dir):\n",
    "    if recipe_file.endswith('.txt'):\n",
    "        # Extract the dish name from the file name (e.g., \"dal_bhat\" from \"dal_bhat.txt\")\n",
    "        dish_name = os.path.splitext(recipe_file)[0]\n",
    "\n",
    "        # Read the recipe content\n",
    "        recipe_content = read_recipe_file(os.path.join(recipes_dir, recipe_file))\n",
    "\n",
    "        # Get the list of image paths for the dish\n",
    "        image_paths = get_image_paths(dish_name)\n",
    "\n",
    "        # Add the data to the merged list\n",
    "        merged_data.append({\n",
    "            \"title\": dish_name,\n",
    "            \"images\": \", \".join(image_paths),  # Join the list of image paths into a single string\n",
    "            \"recipe\": recipe_content\n",
    "        })\n",
    "\n",
    "# Save the merged data to a new CSV file\n",
    "with open('merged_recipes_with_images.csv', mode='w', newline='', encoding='utf-8') as file:\n",
    "    writer = csv.writer(file)\n",
    "    writer.writerow([\"Title\", \"Image Paths\", \"Recipe\"])\n",
    "\n",
    "    for data in merged_data:\n",
    "        writer.writerow([data['title'], data['images'], data['recipe']])\n",
    "\n",
    "print(\"Merged data has been saved to merged_recipes_with_images.csv\")\n"
   ]
  }
 ],
 "metadata": {
  "kernelspec": {
   "display_name": "Python 3",
   "language": "python",
   "name": "python3"
  },
  "language_info": {
   "codemirror_mode": {
    "name": "ipython",
    "version": 3
   },
   "file_extension": ".py",
   "mimetype": "text/x-python",
   "name": "python",
   "nbconvert_exporter": "python",
   "pygments_lexer": "ipython3",
   "version": "3.12.4"
  }
 },
 "nbformat": 4,
 "nbformat_minor": 2
}
